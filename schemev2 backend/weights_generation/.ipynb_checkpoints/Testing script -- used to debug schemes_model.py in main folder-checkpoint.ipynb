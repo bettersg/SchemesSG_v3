{
 "cells": [
  {
   "cell_type": "code",
   "execution_count": 1,
   "metadata": {},
   "outputs": [],
   "source": [
    "#https://radimrehurek.com/gensim/auto_examples/core/run_topics_and_transformations.html\n",
    "\n",
    "import gensim\n",
    "import pandas as pd\n",
    "import numpy as np\n",
    "import spacy\n",
    "import operator\n",
    "import re\n",
    "import string\n",
    "import json\n",
    "import codecs\n",
    "\n",
    "df_schemes = pd.read_csv('../df.csv', encoding='cp1252')#Needed to map the scheme names back to \n",
    "dictionary = gensim.corpora.Dictionary.load('dictionary') #Needed to construct mappings from BOW of the query term to the dictionary which is already preloaded\n",
    "\n",
    "schemes_tfidf_model = gensim.models.TfidfModel.load(\"tfidf.model\") #Needed to feed into the LSI model\n",
    "\n",
    "schemes_lsi_model = gensim.models.LsiModel.load(\"lsi.model\") #Final model\n",
    "schemes_lsi_corpus = gensim.corpora.MmCorpus('schemes_lsi_model_mm') #Needed to create the matrix similarity index\n",
    "\n",
    "#For mentalhealth\n",
    "import pickle\n",
    "from sklearn.feature_extraction.text import CountVectorizer, HashingVectorizer, TfidfVectorizer\n",
    "from nltk.tokenize import sent_tokenize, word_tokenize\n",
    "from nltk.stem import PorterStemmer\n",
    "\n",
    "tvec_optimised = pickle.load(open('tvec', 'rb'))\n",
    "mhmodel = pickle.load(open('mentalhealth', 'rb'))"
   ]
  },
  {
   "cell_type": "code",
   "execution_count": 2,
   "metadata": {},
   "outputs": [
    {
     "name": "stdout",
     "output_type": "stream",
     "text": [
      "Wall time: 1.71 s\n"
     ]
    }
   ],
   "source": [
    "%time spacy_nlp = spacy.load('en_core_web_sm')\n",
    "\n",
    "#create list of punctuations and stopwords\n",
    "punctuations = string.punctuation\n",
    "stop_words = spacy.lang.en.stop_words.STOP_WORDS\n",
    "to_delete = [\"alone\",\"themselves\"]\n",
    "for elem in to_delete:\n",
    "    stop_words.discard(elem)\n",
    "stop_words.add(\"client\")\n",
    "\n",
    "def spacy_tokenizer(sentence):\n",
    "    #remove distracting single quotes\n",
    "    sentence = re.sub('\\'','',sentence)\n",
    "    #replace extra spaces with single space\n",
    "    sentence = re.sub(' +',' ',sentence)\n",
    "    #remove unwanted lines starting from special charcters\n",
    "    sentence = re.sub(r'\\n: \\'\\'.*','',sentence)\n",
    "    sentence = re.sub(r'\\n!.*','',sentence)\n",
    "    sentence = re.sub(r'^:\\'\\'.*','',sentence)  \n",
    "    #remove non-breaking new line characters\n",
    "    sentence = re.sub(r'\\n',' ',sentence)    \n",
    "    #remove punctuations\n",
    "    sentence = re.sub(r'[^\\w\\s]',' ',sentence)   \n",
    "    #creating token object\n",
    "    tokens = spacy_nlp(sentence)  \n",
    "    #lower, strip and lemmatize\n",
    "    tokens = [word.lemma_.lower().strip() if word.lemma_ != \"-PRON-\" else word.lower_ for word in tokens] \n",
    "    #remove stopwords, and exclude words less than 2 characters\n",
    "    tokens = [word for word in tokens if word not in stop_words and word not in punctuations and len(word) > 2]\n",
    "    #return tokens\n",
    "    return tokens\n",
    "\n",
    "#create stemmer for mentalhealth\n",
    "porter = PorterStemmer()\n",
    "def stemSentence(sentence):\n",
    "    token_words=word_tokenize(sentence)\n",
    "    token_words\n",
    "    stem_sentence=[]\n",
    "    for word in token_words:\n",
    "        stem_sentence.append(porter.stem(word))\n",
    "        stem_sentence.append(\" \")\n",
    "    return \"\".join(stem_sentence)"
   ]
  },
  {
   "cell_type": "code",
   "execution_count": 61,
   "metadata": {},
   "outputs": [
    {
     "name": "stdout",
     "output_type": "stream",
     "text": [
      "Wall time: 380 ms\n"
     ]
    }
   ],
   "source": [
    "from gensim.similarities import MatrixSimilarity\n",
    "\n",
    "%time schemes_index = MatrixSimilarity(schemes_lsi_corpus, num_features = schemes_lsi_corpus.num_terms)\n",
    "\n",
    "#Search similarity\n",
    "\n",
    "from operator import itemgetter\n",
    "\n",
    "counter = 0\n",
    "\n",
    "def search_similar_schemes(search_term):\n",
    "    global counter\n",
    "    query_bow = dictionary.doc2bow(spacy_tokenizer(search_term))\n",
    "    query_tfidf = schemes_tfidf_model[query_bow]\n",
    "    query_lsi = schemes_lsi_model[query_tfidf]\n",
    "\n",
    "    schemes_index.num_best = 50\n",
    "\n",
    "    schemes_list = schemes_index[query_lsi]\n",
    "    schemes_list.sort(key=itemgetter(1), reverse=True)\n",
    "    schemes_names = []\n",
    "\n",
    "    for j, scheme in enumerate(schemes_list):\n",
    "\n",
    "        schemes_names.append (\n",
    "            {\n",
    "                'Relevance': round((scheme[1] * 100),2),\n",
    "                'Scheme': df_schemes['Scheme'][scheme[0]],\n",
    "                'Description': df_schemes['Description'][scheme[0]],\n",
    "                'Agency': df_schemes['Agency'][scheme[0]],\n",
    "                'Image': df_schemes['Image'][scheme[0]],\n",
    "                'Link': df_schemes['Link'][scheme[0]],\n",
    "                'What it gives': df_schemes['What it gives'][scheme[0]],\n",
    "                'Scheme Type': df_schemes['What it gives'][scheme[0]]\n",
    "            }\n",
    "\n",
    "        )\n",
    "        if j == (schemes_index.num_best-1):\n",
    "            break\n",
    "\n",
    "    #for MH\n",
    "    mhprob = mhmodel.predict_proba(tvec_optimised.transform([str(stemSentence(search_term))]).todense())[0][1]\n",
    "    \n",
    "    output = pd.DataFrame(schemes_names, columns=['Relevance','Scheme','Description', 'Agency', 'Image', 'Link', 'What it gives', 'Scheme Type'])\n",
    "    output['Relevance'] = output.apply(lambda x: (x['Relevance'] * 1.05 ) if ((('mental health' or 'counselling' or 'emotional care' or 'casework' in x['Scheme Type'].lower()) or\n",
    "                                                                              ('mental health' or 'counselling' or 'emotional care' or 'casework' in x['What it gives'].lower())) and \n",
    "                                                                              (mhprob > 0.55)) else x['Relevance'], axis=1)\n",
    "    output = output.sort_values(by=['Relevance'], ascending= False)\n",
    "    output = output[output['Relevance']>20]\n",
    "    jsonobject = output.to_json(orient = \"records\") #.encode('unicode-escape').decode('unicode-escape')\n",
    "    counter = counter + 1\n",
    "    jsonobject = { \n",
    "        \"mh\": mhprob,\n",
    "        \"number_requests_till_date\": counter,\n",
    "        \"data\": json.loads(jsonobject) \n",
    "    }\n",
    "    return jsonobject"
   ]
  },
  {
   "cell_type": "code",
   "execution_count": 70,
   "metadata": {
    "scrolled": false
   },
   "outputs": [
    {
     "data": {
      "text/plain": [
       "{'mh': 0.46260387811634357,\n",
       " 'number_requests_till_date': 9,\n",
       " 'data': [{'Relevance': 89.96,\n",
       "   'Scheme': 'HCSA Dayspring Residential Treatment Centre',\n",
       "   'Description': 'Therapeutic Group Home service model for teenage girls who have suffered the complex trauma of physical, sexual or emotional abuse. The model consists of two evidence-based practices namely Trauma Systems Therapy (TST) and Residential Management System (RMS).',\n",
       "   'Agency': 'HCSA Community Services',\n",
       "   'Image': 'https://chidnast.sirv.com/SchemesSG/hcsa.jpg',\n",
       "   'Link': 'https://www.hcsa.org.sg/programmes/dayspring-rtc/',\n",
       "   'What it gives': 'Educational programmes,Emotional care',\n",
       "   'Scheme Type': 'Educational programmes,Emotional care'},\n",
       "  {'Relevance': 31.87,\n",
       "   'Scheme': 'Sexual Assualt Care Centre',\n",
       "   'Description': 'The Care Centre provides safe, free and confidential services for anyone who has faced sexual assault and/or sexual harassment, even if it happened years ago. If you need help, or feel unsure about a sexual encounter and just want to talk, please call, WhatsApp, email or visit by appointment.',\n",
       "   'Agency': 'Association of Women for Action and Research (AWARE)',\n",
       "   'Image': 'https://chidnast.sirv.com/SchemesSG/aware.jpg',\n",
       "   'Link': 'https://sacc.aware.org.sg',\n",
       "   'What it gives': 'Emotional care,Counselling',\n",
       "   'Scheme Type': 'Emotional care,Counselling'}]}"
      ]
     },
     "execution_count": 70,
     "metadata": {},
     "output_type": "execute_result"
    }
   ],
   "source": [
    "search_similar_schemes('trauma')"
   ]
  },
  {
   "cell_type": "code",
   "execution_count": 24,
   "metadata": {},
   "outputs": [],
   "source": []
  },
  {
   "cell_type": "code",
   "execution_count": 27,
   "metadata": {},
   "outputs": [],
   "source": []
  },
  {
   "cell_type": "code",
   "execution_count": null,
   "metadata": {},
   "outputs": [],
   "source": []
  }
 ],
 "metadata": {
  "kernelspec": {
   "display_name": "Python 3",
   "language": "python",
   "name": "python3"
  },
  "language_info": {
   "codemirror_mode": {
    "name": "ipython",
    "version": 3
   },
   "file_extension": ".py",
   "mimetype": "text/x-python",
   "name": "python",
   "nbconvert_exporter": "python",
   "pygments_lexer": "ipython3",
   "version": "3.8.2"
  }
 },
 "nbformat": 4,
 "nbformat_minor": 4
}
