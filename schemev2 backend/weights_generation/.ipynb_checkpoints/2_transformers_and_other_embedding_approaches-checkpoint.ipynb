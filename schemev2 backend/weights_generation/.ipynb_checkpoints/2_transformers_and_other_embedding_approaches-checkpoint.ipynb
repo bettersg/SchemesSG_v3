{
 "cells": [
  {
   "cell_type": "markdown",
   "metadata": {},
   "source": [
    "# Other Embedding approaches\n",
    "\n",
    "- First written: 2021-05-10\n",
    "- Last edited: 2021-05-30"
   ]
  },
  {
   "cell_type": "markdown",
   "metadata": {},
   "source": [
    "# 1. Current Challenges\n",
    "\n",
    "Currently there are 2 issues:\n",
    "\n",
    "1. No good means of quantitatively evaluating model performance. \n",
    "- Solution 1: Human eval. Get a bunch of volunteers, (query, link) pairs, and ask volunteers to rate 1-5 for relevance (industry practice). \n",
    "- Solution 2: Logging. Put the system in the wild, use clicks as proxies for relevant and impressions / non-clicks otherwise.\n",
    "    - Problem is that logging is another whole issue altogether. Not a lightweight solution at all\n",
    "    \n",
    "2. Lack of data\n",
    "- LSI inferences are made with a small dataset of at most 100+ words\n",
    "- We could possibly increase the amount of data collected"
   ]
  },
  {
   "cell_type": "markdown",
   "metadata": {},
   "source": [
    "# 2. Algorithm Changes\n",
    "\n",
    "LSI has its limitations: it works well when comparing two documents of similar length, but doesn't when one side is sparse on words / intent. A couple of ideas we can use to handle this:\n",
    "\n",
    "1. Query Augmentation:\n",
    "    - Well practiced in [industry today](https://bytes.grubhub.com/search-query-embeddings-using-query2vec-f5931df27d79), but not sure if it's necessarily the best way. \n",
    "    - Expand the query by augmenting it with more synonyms\n",
    "    - Basic form: some kind of w2v \"(approximate) nearest neighbour\" retrieval, then concat\n",
    "\n",
    "2. Better-quality embedding representation\n",
    "- LSI is good at topic finding and analysis, not so much for retrieval\n",
    "- What if we tried representing the embedding using some pretrained embeddings?\n",
    "    - Basic ones:\n",
    "        - w2v\n",
    "        - glove\n",
    "    - More advanced:\n",
    "        - bert-like transformers"
   ]
  },
  {
   "cell_type": "raw",
   "metadata": {
    "jupyter": {
     "outputs_hidden": true
    },
    "tags": []
   },
   "source": [
    "!../venv/bin/python -m pip install transformers[tf-cpu]\n",
    "!../venv/bin/python -m pip install pandas\n",
    "!../venv/bin/python -m pip install numpy\n",
    "!../venv/bin/python -m pip install ipywidgets\n",
    "!../venv/bin/python -m pip install jupyterlab_widgets\n",
    "!../venv/bin/python -m pip install -U sentence-transformers\n",
    "!../venv/bin/python -m pip install torch torchvision"
   ]
  },
  {
   "cell_type": "code",
   "execution_count": 1,
   "metadata": {},
   "outputs": [],
   "source": [
    "import numpy as np\n",
    "import torch\n",
    "import pandas as pd\n",
    "from transformers import pipeline\n",
    "from transformers import AutoTokenizer\n",
    "\n",
    "tokenizer = AutoTokenizer.from_pretrained('distilbert-base-cased')"
   ]
  },
  {
   "cell_type": "code",
   "execution_count": 2,
   "metadata": {},
   "outputs": [
    {
     "data": {
      "text/html": [
       "<div>\n",
       "<style scoped>\n",
       "    .dataframe tbody tr th:only-of-type {\n",
       "        vertical-align: middle;\n",
       "    }\n",
       "\n",
       "    .dataframe tbody tr th {\n",
       "        vertical-align: top;\n",
       "    }\n",
       "\n",
       "    .dataframe thead th {\n",
       "        text-align: right;\n",
       "    }\n",
       "</style>\n",
       "<table border=\"1\" class=\"dataframe\">\n",
       "  <thead>\n",
       "    <tr style=\"text-align: right;\">\n",
       "      <th></th>\n",
       "      <th>Scheme</th>\n",
       "      <th>Agency</th>\n",
       "      <th>Description</th>\n",
       "      <th>Link</th>\n",
       "      <th>Image</th>\n",
       "      <th>Tag 1</th>\n",
       "      <th>Tag 2</th>\n",
       "      <th>Tag 3</th>\n",
       "    </tr>\n",
       "  </thead>\n",
       "  <tbody>\n",
       "    <tr>\n",
       "      <th>0</th>\n",
       "      <td>Caregivers Support Centre</td>\n",
       "      <td>Caregivers Alliance</td>\n",
       "      <td>Provides support to caregivers of persons with...</td>\n",
       "      <td>https://www.cal.org.sg/caregiver-training</td>\n",
       "      <td>https://chidnast.sirv.com/SchemesSG/CAL.jpg</td>\n",
       "      <td>Caregiver</td>\n",
       "      <td>NaN</td>\n",
       "      <td>NaN</td>\n",
       "    </tr>\n",
       "    <tr>\n",
       "      <th>1</th>\n",
       "      <td>Caregiver Training Program</td>\n",
       "      <td>Caregivers Alliance</td>\n",
       "      <td>Provides training to caregivers of persons wit...</td>\n",
       "      <td>https://www.cal.org.sg/caregiver-training</td>\n",
       "      <td>https://chidnast.sirv.com/SchemesSG/CAL.jpg</td>\n",
       "      <td>Caregiver</td>\n",
       "      <td>NaN</td>\n",
       "      <td>NaN</td>\n",
       "    </tr>\n",
       "    <tr>\n",
       "      <th>2</th>\n",
       "      <td>Food Assistance</td>\n",
       "      <td>A Packet of Rice</td>\n",
       "      <td>A self setup group which distributes meal box ...</td>\n",
       "      <td>https://www.facebook.com/APacketOfRice/</td>\n",
       "      <td>https://chidnast.sirv.com/SchemesSG/apacketofr...</td>\n",
       "      <td>Low Income</td>\n",
       "      <td>Food</td>\n",
       "      <td>NaN</td>\n",
       "    </tr>\n",
       "    <tr>\n",
       "      <th>3</th>\n",
       "      <td>Family LifeAid</td>\n",
       "      <td>Red Cross Singapore</td>\n",
       "      <td>Identified households receive food vouchers ev...</td>\n",
       "      <td>https://www.redcross.sg/get-assistance/family-...</td>\n",
       "      <td>https://chidnast.sirv.com/SchemesSG/redcross.jpg</td>\n",
       "      <td>Low Income</td>\n",
       "      <td>Food</td>\n",
       "      <td>Education</td>\n",
       "    </tr>\n",
       "    <tr>\n",
       "      <th>4</th>\n",
       "      <td>Financial Assistance</td>\n",
       "      <td>365 Cancer Prevention Society (365CPS)</td>\n",
       "      <td>Cancer treatment can place a heavy financial b...</td>\n",
       "      <td>https://365cps.org.sg/portfolio/financial-supp...</td>\n",
       "      <td>https://chidnast.sirv.com/SchemesSG/365cps.jpg</td>\n",
       "      <td>Low Income</td>\n",
       "      <td>Healthcare</td>\n",
       "      <td>NaN</td>\n",
       "    </tr>\n",
       "  </tbody>\n",
       "</table>\n",
       "</div>"
      ],
      "text/plain": [
       "                       Scheme                                  Agency  \\\n",
       "0   Caregivers Support Centre                     Caregivers Alliance   \n",
       "1  Caregiver Training Program                     Caregivers Alliance   \n",
       "2             Food Assistance                        A Packet of Rice   \n",
       "3              Family LifeAid                     Red Cross Singapore   \n",
       "4        Financial Assistance  365 Cancer Prevention Society (365CPS)   \n",
       "\n",
       "                                         Description  \\\n",
       "0  Provides support to caregivers of persons with...   \n",
       "1  Provides training to caregivers of persons wit...   \n",
       "2  A self setup group which distributes meal box ...   \n",
       "3  Identified households receive food vouchers ev...   \n",
       "4  Cancer treatment can place a heavy financial b...   \n",
       "\n",
       "                                                Link  \\\n",
       "0          https://www.cal.org.sg/caregiver-training   \n",
       "1          https://www.cal.org.sg/caregiver-training   \n",
       "2            https://www.facebook.com/APacketOfRice/   \n",
       "3  https://www.redcross.sg/get-assistance/family-...   \n",
       "4  https://365cps.org.sg/portfolio/financial-supp...   \n",
       "\n",
       "                                               Image       Tag 1       Tag 2  \\\n",
       "0        https://chidnast.sirv.com/SchemesSG/CAL.jpg   Caregiver         NaN   \n",
       "1        https://chidnast.sirv.com/SchemesSG/CAL.jpg   Caregiver         NaN   \n",
       "2  https://chidnast.sirv.com/SchemesSG/apacketofr...  Low Income        Food   \n",
       "3   https://chidnast.sirv.com/SchemesSG/redcross.jpg  Low Income        Food   \n",
       "4     https://chidnast.sirv.com/SchemesSG/365cps.jpg  Low Income  Healthcare   \n",
       "\n",
       "       Tag 3  \n",
       "0        NaN  \n",
       "1        NaN  \n",
       "2        NaN  \n",
       "3  Education  \n",
       "4        NaN  "
      ]
     },
     "execution_count": 2,
     "metadata": {},
     "output_type": "execute_result"
    }
   ],
   "source": [
    "# loading data\n",
    "df_schemes = pd.read_csv('../schemes.csv', encoding='mac_roman')\n",
    "df_schemes.head()"
   ]
  },
  {
   "cell_type": "markdown",
   "metadata": {},
   "source": [
    "# Trying transformers from huggingface\n",
    "\n",
    "https://huggingface.co/transformers/notebooks.html"
   ]
  },
  {
   "cell_type": "code",
   "execution_count": 3,
   "metadata": {},
   "outputs": [
    {
     "data": {
      "application/vnd.jupyter.widget-view+json": {
       "model_id": "4ecb752a8ed84ad09cbf46155bca9fd4",
       "version_major": 2,
       "version_minor": 0
      },
      "text/plain": [
       "Downloading:   0%|          | 0.00/263M [00:00<?, ?B/s]"
      ]
     },
     "metadata": {},
     "output_type": "display_data"
    },
    {
     "data": {
      "text/plain": [
       "(113, 135, 768)"
      ]
     },
     "execution_count": 3,
     "metadata": {},
     "output_type": "execute_result"
    }
   ],
   "source": [
    "nlp_features = pipeline('feature-extraction')\n",
    "output = nlp_features(df_schemes['Description'].tolist())\n",
    "np.array(output).shape   # (Samples, Tokens, Vector Size)"
   ]
  },
  {
   "cell_type": "code",
   "execution_count": 4,
   "metadata": {
    "tags": []
   },
   "outputs": [
    {
     "data": {
      "text/plain": [
       "array([[[ 0.38643956, -0.10631615, -0.15597686, ..., -0.21457441,\n",
       "          0.22321901,  0.00472031],\n",
       "        [ 0.18545376, -0.37182105, -0.14456783, ...,  0.57555652,\n",
       "          0.29364479,  0.04755285],\n",
       "        [ 0.07240835, -0.0616543 , -0.24307226, ...,  0.26000339,\n",
       "         -0.03196095,  0.02543055],\n",
       "        ...,\n",
       "        [ 0.18805318, -0.19116542, -0.0366517 , ...,  0.09192437,\n",
       "          0.132121  ,  0.28939039],\n",
       "        [ 0.23229843, -0.1421183 , -0.13016975, ...,  0.05070525,\n",
       "          0.23810981,  0.46606466],\n",
       "        [ 0.23064086, -0.29060408, -0.06681173, ...,  0.05968447,\n",
       "          0.1519468 ,  0.3502115 ]],\n",
       "\n",
       "       [[ 0.34675306, -0.10325469, -0.11605997, ..., -0.19293618,\n",
       "          0.20233874,  0.08297873],\n",
       "        [ 0.2038223 , -0.35885975, -0.12805758, ...,  0.60555607,\n",
       "          0.22940989,  0.09131481],\n",
       "        [-0.12431835, -0.06780472, -0.15613925, ...,  0.37775403,\n",
       "         -0.18495724,  0.20772569],\n",
       "        ...,\n",
       "        [ 0.19514582, -0.15275784, -0.04281472, ...,  0.10207172,\n",
       "          0.12553051,  0.31745079],\n",
       "        [ 0.23613541, -0.10506976, -0.1393519 , ...,  0.06158964,\n",
       "          0.22965701,  0.49795631],\n",
       "        [ 0.22988899, -0.26509187, -0.06523043, ...,  0.05779058,\n",
       "          0.14439516,  0.36553779]],\n",
       "\n",
       "       [[ 0.50548697, -0.05282449, -0.38848895, ..., -0.17319265,\n",
       "          0.2875194 ,  0.08932564],\n",
       "        [ 0.30408928, -0.25805342, -0.43766814, ...,  0.02084445,\n",
       "          0.44048226,  0.14668839],\n",
       "        [ 0.44681379, -0.00993694, -0.35881963, ...,  0.28816086,\n",
       "          0.14030735,  0.24364993],\n",
       "        ...,\n",
       "        [ 0.17687266,  0.10385455, -0.751544  , ..., -0.04063989,\n",
       "          0.06221823,  0.15981098],\n",
       "        [ 0.16022532,  0.27109483, -0.66043317, ...,  0.30951053,\n",
       "         -0.00367999,  0.19933195],\n",
       "        [ 0.06736545,  0.14982127, -0.36772946, ...,  0.18544267,\n",
       "          0.22284843,  0.31697625]],\n",
       "\n",
       "       ...,\n",
       "\n",
       "       [[ 0.36444584,  0.0028342 , -0.06930515, ..., -0.29368514,\n",
       "          0.18123992,  0.36095247],\n",
       "        [-0.02476089, -0.13455127,  0.14730361, ..., -0.54602844,\n",
       "          0.12007536,  0.74239457],\n",
       "        [ 0.13364711, -0.05098866,  0.00627327, ..., -0.04146596,\n",
       "          0.25053364,  0.4071942 ],\n",
       "        ...,\n",
       "        [ 0.46471113,  0.10450098,  0.14880383, ..., -0.08726606,\n",
       "         -0.09063991,  0.28715602],\n",
       "        [ 0.19524793, -0.02336855, -0.05565567, ..., -0.05128117,\n",
       "         -0.04026873,  0.25292823],\n",
       "        [ 0.03470721,  0.04221078,  0.10658901, ...,  0.13785769,\n",
       "         -0.14428014,  0.47258669]],\n",
       "\n",
       "       [[ 0.28787225, -0.01560975, -0.25029972, ..., -0.20140962,\n",
       "          0.06737772,  0.16014732],\n",
       "        [ 0.09236619, -0.03121661, -0.22814479, ..., -0.00683777,\n",
       "          0.07723675,  0.4893246 ],\n",
       "        [ 0.35664979, -0.1896888 ,  0.08689367, ..., -0.19973342,\n",
       "         -0.1259113 ,  0.51650918],\n",
       "        ...,\n",
       "        [ 0.17928466,  0.07838963, -0.17452906, ...,  0.08956602,\n",
       "         -0.01874269,  0.56625617],\n",
       "        [ 0.1233647 ,  0.17444329,  0.00437764, ..., -0.24214619,\n",
       "         -0.00850452,  0.71542412],\n",
       "        [ 0.21433382,  0.116575  , -0.17516945, ..., -0.03845565,\n",
       "         -0.10227874,  0.52998441]],\n",
       "\n",
       "       [[ 0.24641792, -0.07446973, -0.11631749, ..., -0.24797651,\n",
       "          0.10568568,  0.20500946],\n",
       "        [-0.29742992, -0.53708655, -0.16797757, ..., -0.24562463,\n",
       "          0.31879342,  0.18788633],\n",
       "        [ 0.14283119,  0.46988943,  0.19008335, ...,  0.11625096,\n",
       "          0.09538791, -0.13414462],\n",
       "        ...,\n",
       "        [-0.02788819, -0.16502188, -0.09199613, ...,  0.03172603,\n",
       "          0.04215714,  0.2109146 ],\n",
       "        [-0.07699479,  0.05376342, -0.10524785, ..., -0.16838507,\n",
       "          0.00959285,  0.02616846],\n",
       "        [-0.12311241,  0.02854478, -0.12044883, ..., -0.18981633,\n",
       "          0.02916293,  0.13586029]]])"
      ]
     },
     "execution_count": 4,
     "metadata": {},
     "output_type": "execute_result"
    }
   ],
   "source": [
    "np.array(output) # hmm it's a token-level summary, not sentence-level summary"
   ]
  },
  {
   "cell_type": "markdown",
   "metadata": {},
   "source": [
    "# Trying sentence_transformers instead\n",
    "\n",
    "Link: https://www.sbert.net/docs/usage/semantic_textual_similarity.html"
   ]
  },
  {
   "cell_type": "code",
   "execution_count": 5,
   "metadata": {},
   "outputs": [],
   "source": [
    "from sentence_transformers import SentenceTransformer, util\n",
    "model = SentenceTransformer('paraphrase-distilroberta-base-v2')"
   ]
  },
  {
   "cell_type": "code",
   "execution_count": 6,
   "metadata": {},
   "outputs": [],
   "source": [
    "embeddings = model.encode(df_schemes['Description'].tolist(), convert_to_tensor=True)\n",
    "\n",
    "#Compute cosine-similarits\n",
    "cosine_scores = util.pytorch_cos_sim(embeddings, embeddings)"
   ]
  },
  {
   "cell_type": "code",
   "execution_count": 7,
   "metadata": {},
   "outputs": [
    {
     "data": {
      "text/plain": [
       "tensor([[1.0000, 0.8751, 0.2815,  ..., 0.1324, 0.1757, 0.4162],\n",
       "        [0.8751, 1.0000, 0.2265,  ..., 0.1660, 0.1694, 0.4121],\n",
       "        [0.2815, 0.2265, 1.0000,  ..., 0.1074, 0.1156, 0.3095],\n",
       "        ...,\n",
       "        [0.1324, 0.1660, 0.1074,  ..., 1.0000, 0.2008, 0.2508],\n",
       "        [0.1757, 0.1694, 0.1156,  ..., 0.2008, 1.0000, 0.3799],\n",
       "        [0.4162, 0.4121, 0.3095,  ..., 0.2508, 0.3799, 1.0000]])"
      ]
     },
     "execution_count": 7,
     "metadata": {},
     "output_type": "execute_result"
    }
   ],
   "source": [
    "cosine_scores"
   ]
  },
  {
   "cell_type": "code",
   "execution_count": 8,
   "metadata": {},
   "outputs": [],
   "source": [
    "def return_query(sentence, embeddings, df):\n",
    "    query_emb = model.encode(sentence, convert_to_tensor=True)\n",
    "    cos_sim = util.pytorch_cos_sim(query_emb, embeddings)\n",
    "    cos_sim_series = pd.Series(cos_sim.numpy().flatten(), name='cos_sim')\n",
    "    return df.join(cos_sim_series).sort_values('cos_sim', ascending=False)"
   ]
  },
  {
   "cell_type": "code",
   "execution_count": 9,
   "metadata": {},
   "outputs": [],
   "source": [
    "test_sent = \"\"\"\n",
    "my client needs help as their family has lost a breadwinner and they need money to help with daily necessities during COVID. The child is also unable to afford schooling supplies such as computer\"\"\""
   ]
  },
  {
   "cell_type": "code",
   "execution_count": 10,
   "metadata": {},
   "outputs": [
    {
     "data": {
      "text/html": [
       "<div>\n",
       "<style scoped>\n",
       "    .dataframe tbody tr th:only-of-type {\n",
       "        vertical-align: middle;\n",
       "    }\n",
       "\n",
       "    .dataframe tbody tr th {\n",
       "        vertical-align: top;\n",
       "    }\n",
       "\n",
       "    .dataframe thead th {\n",
       "        text-align: right;\n",
       "    }\n",
       "</style>\n",
       "<table border=\"1\" class=\"dataframe\">\n",
       "  <thead>\n",
       "    <tr style=\"text-align: right;\">\n",
       "      <th></th>\n",
       "      <th>Scheme</th>\n",
       "      <th>Agency</th>\n",
       "      <th>Description</th>\n",
       "      <th>Link</th>\n",
       "      <th>Image</th>\n",
       "      <th>Tag 1</th>\n",
       "      <th>Tag 2</th>\n",
       "      <th>Tag 3</th>\n",
       "      <th>cos_sim</th>\n",
       "    </tr>\n",
       "  </thead>\n",
       "  <tbody>\n",
       "    <tr>\n",
       "      <th>81</th>\n",
       "      <td>ComCare Short-To-Medium-Term Assistance</td>\n",
       "      <td>Ministry of Social and Family Development (MSF)</td>\n",
       "      <td>Short to medium term assistance for those unab...</td>\n",
       "      <td>https://www.msf.gov.sg/Comcare/Pages/Short-to-...</td>\n",
       "      <td>https://chidnast.sirv.com/SchemesSG/msf.jpg</td>\n",
       "      <td>Family</td>\n",
       "      <td>Low Income</td>\n",
       "      <td>NaN</td>\n",
       "      <td>0.583423</td>\n",
       "    </tr>\n",
       "    <tr>\n",
       "      <th>108</th>\n",
       "      <td>The Straits Times School Pocket Money Fund</td>\n",
       "      <td>The Straits Times School Pocket Money Fund (SPMF)</td>\n",
       "      <td>To alleviate the financial burden faced by par...</td>\n",
       "      <td>https://www.spmf.org.sg/primary-secondary-stud...</td>\n",
       "      <td>https://chidnast.sirv.com/SchemesSG/stspmf.jpg</td>\n",
       "      <td>Low Income</td>\n",
       "      <td>Education</td>\n",
       "      <td>NaN</td>\n",
       "      <td>0.554491</td>\n",
       "    </tr>\n",
       "    <tr>\n",
       "      <th>112</th>\n",
       "      <td>YMCA FACES</td>\n",
       "      <td>Young Men's Christian Association (YMCA)</td>\n",
       "      <td>Short term financial assistance, bridging fund...</td>\n",
       "      <td>https://www.ymca.org.sg/community-services/fin...</td>\n",
       "      <td>https://chidnast.sirv.com/SchemesSG/ymca.jpg</td>\n",
       "      <td>Low Income</td>\n",
       "      <td>Special Needs</td>\n",
       "      <td>Family</td>\n",
       "      <td>0.548327</td>\n",
       "    </tr>\n",
       "    <tr>\n",
       "      <th>17</th>\n",
       "      <td>COVID-19 - Family Assistance Fund</td>\n",
       "      <td>Beyond Social Services</td>\n",
       "      <td>Covid 19 Family Assistance Fund Fund will go t...</td>\n",
       "      <td>https://www.beyond.org.sg/faf-faq/</td>\n",
       "      <td>https://chidnast.sirv.com/SchemesSG/beyond.jpg</td>\n",
       "      <td>Low Income</td>\n",
       "      <td>COVID-19</td>\n",
       "      <td>Food</td>\n",
       "      <td>0.532644</td>\n",
       "    </tr>\n",
       "    <tr>\n",
       "      <th>105</th>\n",
       "      <td>COVID 19 related support</td>\n",
       "      <td>Support Go Where</td>\n",
       "      <td>Key government resource on COVID-19 related as...</td>\n",
       "      <td>https://www.supportgowhere.gov.sg/schemes/?lan...</td>\n",
       "      <td>https://chidnast.sirv.com/SchemesSG/supportgow...</td>\n",
       "      <td>COVID-19</td>\n",
       "      <td>NaN</td>\n",
       "      <td>NaN</td>\n",
       "      <td>0.509703</td>\n",
       "    </tr>\n",
       "  </tbody>\n",
       "</table>\n",
       "</div>"
      ],
      "text/plain": [
       "                                         Scheme  \\\n",
       "81      ComCare Short-To-Medium-Term Assistance   \n",
       "108  The Straits Times School Pocket Money Fund   \n",
       "112                                  YMCA FACES   \n",
       "17            COVID-19 - Family Assistance Fund   \n",
       "105                    COVID 19 related support   \n",
       "\n",
       "                                                Agency  \\\n",
       "81     Ministry of Social and Family Development (MSF)   \n",
       "108  The Straits Times School Pocket Money Fund (SPMF)   \n",
       "112           Young Men's Christian Association (YMCA)   \n",
       "17                              Beyond Social Services   \n",
       "105                                   Support Go Where   \n",
       "\n",
       "                                           Description  \\\n",
       "81   Short to medium term assistance for those unab...   \n",
       "108  To alleviate the financial burden faced by par...   \n",
       "112  Short term financial assistance, bridging fund...   \n",
       "17   Covid 19 Family Assistance Fund Fund will go t...   \n",
       "105  Key government resource on COVID-19 related as...   \n",
       "\n",
       "                                                  Link  \\\n",
       "81   https://www.msf.gov.sg/Comcare/Pages/Short-to-...   \n",
       "108  https://www.spmf.org.sg/primary-secondary-stud...   \n",
       "112  https://www.ymca.org.sg/community-services/fin...   \n",
       "17                  https://www.beyond.org.sg/faf-faq/   \n",
       "105  https://www.supportgowhere.gov.sg/schemes/?lan...   \n",
       "\n",
       "                                                 Image       Tag 1  \\\n",
       "81         https://chidnast.sirv.com/SchemesSG/msf.jpg      Family   \n",
       "108     https://chidnast.sirv.com/SchemesSG/stspmf.jpg  Low Income   \n",
       "112       https://chidnast.sirv.com/SchemesSG/ymca.jpg  Low Income   \n",
       "17      https://chidnast.sirv.com/SchemesSG/beyond.jpg  Low Income   \n",
       "105  https://chidnast.sirv.com/SchemesSG/supportgow...    COVID-19   \n",
       "\n",
       "             Tag 2   Tag 3   cos_sim  \n",
       "81      Low Income     NaN  0.583423  \n",
       "108      Education     NaN  0.554491  \n",
       "112  Special Needs  Family  0.548327  \n",
       "17        COVID-19    Food  0.532644  \n",
       "105            NaN     NaN  0.509703  "
      ]
     },
     "execution_count": 10,
     "metadata": {},
     "output_type": "execute_result"
    }
   ],
   "source": [
    "return_query(test_sent, embeddings, df_schemes).head(5)"
   ]
  },
  {
   "cell_type": "markdown",
   "metadata": {},
   "source": [
    "# 3. Latency issues\n",
    "\n",
    "tbd, need to explore faster models (e.g. distilbert)"
   ]
  },
  {
   "cell_type": "markdown",
   "metadata": {},
   "source": [
    "# 4. Data Augmentation\n",
    "\n",
    "tbd, need to scrape data"
   ]
  }
 ],
 "metadata": {
  "kernelspec": {
   "display_name": "Python (myenv)",
   "language": "python",
   "name": "myenv"
  },
  "language_info": {
   "codemirror_mode": {
    "name": "ipython",
    "version": 3
   },
   "file_extension": ".py",
   "mimetype": "text/x-python",
   "name": "python",
   "nbconvert_exporter": "python",
   "pygments_lexer": "ipython3",
   "version": "3.7.4"
  }
 },
 "nbformat": 4,
 "nbformat_minor": 4
}
